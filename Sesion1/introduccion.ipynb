{
 "cells": [
  {
   "cell_type": "code",
   "execution_count": 1,
   "metadata": {},
   "outputs": [
    {
     "name": "stdout",
     "output_type": "stream",
     "text": [
      "hola mundo\n"
     ]
    }
   ],
   "source": [
    "print(\"hola mundo\");"
   ]
  },
  {
   "cell_type": "code",
   "execution_count": 4,
   "metadata": {},
   "outputs": [
    {
     "name": "stdout",
     "output_type": "stream",
     "text": [
      "Es falso\n"
     ]
    }
   ],
   "source": [
    "#identacion, delimitar blockes de codigo, los : son bloqes e codigo en if, for, no se usan las {} el # me ayuda a comentar las lineas\n",
    "\"\"\"\n",
    "est es un bloque\n",
    "de comentarios\n",
    "\"\"\"\n",
    "\n",
    "variable = 4\n",
    "if variable == 5:\n",
    "    print(\"es verdadero\")\n",
    "else:\n",
    "    print(\"Es falso\")\n"
   ]
  },
  {
   "cell_type": "markdown",
   "metadata": {},
   "source": [
    "# comentarios\n",
    "#### variables y tipos de datos\n",
    "#### una variable se crea en el momento q se le asigna el valor por primera ves\n",
    "#### type me dice el tipo de valor me esta llegando a la variable\n",
    "\n"
   ]
  },
  {
   "cell_type": "code",
   "execution_count": 6,
   "metadata": {},
   "outputs": [
    {
     "name": "stdout",
     "output_type": "stream",
     "text": [
      "Juan\n",
      "30\n",
      "1.7\n",
      "True\n",
      "<class 'str'>\n",
      "<class 'int'>\n",
      "<class 'float'>\n",
      "<class 'bool'>\n"
     ]
    }
   ],
   "source": [
    "nombre = \"Juan\" # string\n",
    "edad = 30 # entero\n",
    "altura = 1.70 # float\n",
    "es_estudiante = True # boolean\n",
    "\n",
    "print(nombre)\n",
    "print(edad)\n",
    "print(altura)\n",
    "print(es_estudiante)\n",
    "\n",
    "#type me dice el tipo de valor me esta llegando a la variable\n",
    "print(type(nombre))\n",
    "print(type(edad))\n",
    "print(type(altura))\n",
    "print(type(es_estudiante))\n",
    "\n"
   ]
  },
  {
   "cell_type": "markdown",
   "metadata": {},
   "source": [
    "# Tipo de datos = Listas\n"
   ]
  },
  {
   "cell_type": "markdown",
   "metadata": {},
   "source": []
  },
  {
   "cell_type": "code",
   "execution_count": 16,
   "metadata": {},
   "outputs": [
    {
     "name": "stdout",
     "output_type": "stream",
     "text": [
      "[1, 2, [44.4, 8, 'Pedro'], ['5']]\n",
      "c\n",
      "['c', 'd']\n",
      "[44.4, 8, 'Pedro']\n",
      "Pedro\n"
     ]
    }
   ],
   "source": [
    "#lista vacia\n",
    "lista1 = []\n",
    "lista2= [1,2,3] # lista de enteros\n",
    "lista3 = [\"apple\", \"android\", \"Xiaomi\"] # lista de string\n",
    "lista4 = [2,5,\"Juan\",44.4] # lsta mixta\n",
    "lista5 = [1,2,[44.4,8,\"Pedro\"], [\"5\"] ] # lista anidada\n",
    "print(lista5)\n",
    "\n",
    "# accediendo los valores de lista\n",
    "\"\"\" Referencua de posicioes \n",
    "pos[0], pos[1],pos[n-1]\n",
    "\n",
    "\"\"\" \n",
    "lista6 = [\"a\",\"b\",\"c\",\"d\",\"e\",\"F\"]\n",
    "print(lista6[2])\n",
    "print(lista6[2:5]) ## un rango de elemetos \n",
    "print(lista5[2])\n",
    "print(lista5[2][2])\n"
   ]
  },
  {
   "cell_type": "code",
   "execution_count": 17,
   "metadata": {},
   "outputs": [
    {
     "name": "stdout",
     "output_type": "stream",
     "text": [
      "['c', 'd', 'e']\n"
     ]
    }
   ],
   "source": [
    "lista6 = [\"a\",\"b\",\"c\",\"d\",\"e\",\"F\"]\n",
    "print(lista6[2:5]) ## un rango de elemetos \n"
   ]
  },
  {
   "cell_type": "markdown",
   "metadata": {},
   "source": [
    "# Tipos de datos - tuplas"
   ]
  },
  {
   "cell_type": "code",
   "execution_count": 18,
   "metadata": {},
   "outputs": [
    {
     "name": "stdout",
     "output_type": "stream",
     "text": [
      "<class 'tuple'>\n"
     ]
    }
   ],
   "source": [
    "\"\"\" \n",
    "en una lista si podemos cambiar los elementos , pero en la tupla no podemos\n",
    "\n",
    "\"\"\"\n",
    "\n",
    "tupla = () # tupla vacia\n",
    "tupla1 = (1,2,3) # enteros\n",
    "tupla2 = (\"a\",\"b\",\"c\",\"d\",\"e\",\"f\")\n",
    "tupla3 = (1, \"Hello tupla mixta\", 4.9) # mixta\n",
    "tupla4 = (1, (\"Hello tupla mixta\", 5, 4.5), 4.9) # anidada\n",
    "tupla5 = (1,) # asi se crea una tupla con un elemento\n",
    "\n",
    "# en las tuplas el () es opcional\n",
    "tupla7 = \"a\",\"b\",\"c\",\"d\",\"e\",\"F\"\n",
    "print(type (tupla7))"
   ]
  },
  {
   "cell_type": "markdown",
   "metadata": {},
   "source": [
    "# Tipos de datos - Diccionario\n"
   ]
  },
  {
   "cell_type": "code",
   "execution_count": 25,
   "metadata": {},
   "outputs": [
    {
     "name": "stdout",
     "output_type": "stream",
     "text": [
      "Juan\n",
      "None\n"
     ]
    }
   ],
   "source": [
    "# clave, valor\n",
    "## Diccionario vacio\n",
    "Diccionario1 = {} # vacio\n",
    "Diccionario2 = {1:\"Juan\", 2:\"Perez\"}\n",
    "Diccionario3 = {\"Nombre\": \"Juan\", \"Apellido\": \"Perez\"}\n",
    "Diccionario4 = {\"Nombre\": \"Juan\", \"Apellido\": \"Perez\",\"Edad\": 25, \"Pais\": \"CR\"}\n",
    "print(Diccionario4 [\"Nombre\"]) # s ila llave no exixte se cae\n",
    "print(Diccionario4.get (\"Nombre1\")) #sino exixte la clave no se cae, get es un metodo se usa el ()"
   ]
  },
  {
   "cell_type": "code",
   "execution_count": 30,
   "metadata": {},
   "outputs": [
    {
     "name": "stdout",
     "output_type": "stream",
     "text": [
      "1\n",
      "2\n",
      "[44.4, 8, 'Pedro']\n",
      "['5']\n",
      "a\n",
      "b\n",
      "c\n",
      "d\n",
      "e\n",
      "F\n",
      "Nombre Juan\n",
      "Apellido Perez\n",
      "Edad 25\n",
      "Pais CR\n",
      "Juan\n",
      "Perez\n",
      "25\n",
      "CR\n"
     ]
    }
   ],
   "source": [
    "# Iteracion\n",
    "for item in lista5:\n",
    "    print(item)\n",
    "\n",
    "\n",
    "for item in tupla7:\n",
    "        print(item)\n",
    "\n",
    "for clave, valor in Diccionario4.items():\n",
    "    print(clave, valor)\n",
    "    \n",
    "\n",
    "for clave in Diccionario4.keys():\n",
    "    print(Diccionario4 [clave])"
   ]
  },
  {
   "cell_type": "markdown",
   "metadata": {},
   "source": [
    "## Control de flujo"
   ]
  },
  {
   "cell_type": "code",
   "execution_count": null,
   "metadata": {},
   "outputs": [],
   "source": [
    "# Estructuras como se ejecutan las estructuras en un programa, para tomar desiciones, ejemplo if, for, try, catch\n",
    "## Control de flujo - condicionales if, \n",
    "numero = -3\n",
    "if numero > 0:\n",
    "    print(\"el numero es posi\")\n",
    "print(\"Siempre se ejecuta\")\n"
   ]
  },
  {
   "cell_type": "code",
   "execution_count": 32,
   "metadata": {},
   "outputs": [
    {
     "name": "stdout",
     "output_type": "stream",
     "text": [
      "Siempre es nega\n"
     ]
    }
   ],
   "source": [
    "numero = -3\n",
    "if numero > 0:\n",
    "    print(\"el numero es posi\")\n",
    "else:\n",
    "    print(\"Siempre es nega\")"
   ]
  },
  {
   "cell_type": "code",
   "execution_count": 36,
   "metadata": {},
   "outputs": [
    {
     "name": "stdout",
     "output_type": "stream",
     "text": [
      "El elemento de la lista es apple\n",
      "El elemento de la lista es android\n",
      "El elemento de la lista es Xiaomi\n"
     ]
    }
   ],
   "source": [
    "##  for es una repeticion segun la cantidad de elemenros de la lista\n",
    "for item in lista3:\n",
    "    print(\"El elemento de la lista es \" + item)\n",
    "\n"
   ]
  },
  {
   "cell_type": "code",
   "execution_count": 38,
   "metadata": {},
   "outputs": [
    {
     "name": "stdout",
     "output_type": "stream",
     "text": [
      "El elemento de la lista es  apple \n",
      "El elemento de la lista es  android \n",
      "El elemento de la lista es  Xiaomi \n"
     ]
    }
   ],
   "source": [
    "# bucles f string\n",
    "for item in lista3:\n",
    "    print(f\"El elemento de la lista es  {item} \")"
   ]
  },
  {
   "cell_type": "code",
   "execution_count": 40,
   "metadata": {},
   "outputs": [
    {
     "name": "stdout",
     "output_type": "stream",
     "text": [
      " la suma es 55\n"
     ]
    }
   ],
   "source": [
    "#while\n",
    "n = 10\n",
    "suma = 0\n",
    "itera = 1\n",
    "while itera <= n:\n",
    "    suma += itera\n",
    "    itera += 1\n",
    "print(f\" la suma es {suma}\")"
   ]
  },
  {
   "cell_type": "code",
   "execution_count": null,
   "metadata": {},
   "outputs": [],
   "source": [
    "## Control de flujo exception\n",
    "\n",
    "try:\n",
    "    print(234/0)\n",
    "except:\n",
    "    print(\"Error\")\n"
   ]
  },
  {
   "cell_type": "code",
   "execution_count": null,
   "metadata": {},
   "outputs": [],
   "source": [
    "try:\n",
    "    print(234/0)\n",
    "except Exception as e:\n",
    "    print(\"Error customizado\")\n",
    "    print(e)"
   ]
  },
  {
   "cell_type": "code",
   "execution_count": 41,
   "metadata": {},
   "outputs": [
    {
     "name": "stdout",
     "output_type": "stream",
     "text": [
      "4\n"
     ]
    }
   ],
   "source": [
    "# Funciones\n",
    "def funcion1(x):\n",
    "    return 2*x\n",
    "\n",
    "y = funcion1(2)\n",
    "print(y)"
   ]
  },
  {
   "cell_type": "code",
   "execution_count": null,
   "metadata": {},
   "outputs": [],
   "source": [
    "def cleanData(dataset):\n",
    "    \"\"\"Doc de la funcion\n",
    "    \n",
    "    Descripcion:\n",
    "    parametros de entrada: \n",
    "    Inputs: \n",
    "    Lista de columnas:\n",
    "    Salida: \n",
    "\n",
    "    \"\"\" \n",
    "    df = dataset.query(\"column1 != null\")\n",
    "    df = df.select['column1','column2','column3']\n",
    "    return df"
   ]
  }
 ],
 "metadata": {
  "kernelspec": {
   "display_name": "Python 3 (ipykernel)",
   "language": "python",
   "name": "python3"
  }
 },
 "nbformat": 4,
 "nbformat_minor": 2
}
